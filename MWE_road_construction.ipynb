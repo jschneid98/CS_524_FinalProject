{
 "cells": [
  {
   "cell_type": "code",
   "execution_count": 5,
   "metadata": {
    "collapsed": false
   },
   "outputs": [],
   "source": [
    "#= Data\n",
    "                # edges\n",
    "incidence = [ 0 B C D E F G H I J K L M N                             # nodes \n",
    "              A 0 C D E F G H I J K L M N\n",
    "              A B 0 D E F G H I J K L M N\n",
    "              A B C 0 E F G H I J K L M N\n",
    "              A B C D 0 F G H I J K L M N\n",
    "              A B C D E 0 G H I J K L M N\n",
    "              A B C D E F 0 H I J K L M N\n",
    "              A B C D E F G 0 I J K L M N\n",
    "              A B C D E F G H 0 J K L M N\n",
    "              A B C D E F G H I 0 K L M N\n",
    "              A B C D E F G H I J K L M N\n",
    "]\n",
    "=#\n",
    "\n",
    "# Problem Data\n",
    "\n",
    "adj_matrix = [ 0 3 0 0 0 0 0 0 0 0 15\n",
    "               3 0 17 0 0 0 30 0 0 0 0\n",
    "               0 17 0 16 0 19 0 0 0 0 0\n",
    "               0 0 16 0 5 0 0 0 0 0 0\n",
    "               0 0 0 5 0 8 0 0 0 0 0\n",
    "               0 0 19 0 8 0 8 0 0 0 0\n",
    "               0 30 0 0 0 8 0 8 0 0 0\n",
    "               0 0 0 0 0 0 8 0 2 0 23\n",
    "               0 0 0 0 0 0 0 2 0 16 0\n",
    "               0 0 0 0 0 0 0 0 16 0 20\n",
    "               12 0 0 0 0 0 0 23 0 16 0\n",
    "]\n",
    "\n",
    "road_construction = [ 0 1 0 0 0 0 0 0 0 0 0\n",
    "                      1 0 0 0 0 0 1 0 0 0 0\n",
    "                      0 0 0 0 0 0 0 0 0 0 0\n",
    "                      0 0 0 0 0 0 0 0 0 0 0\n",
    "                      0 0 0 0 0 0 0 0 0 0 0\n",
    "                      0 0 0 0 0 0 0 0 0 0 0\n",
    "                      0 1 0 0 0 0 0 0 0 0 0\n",
    "                      0 0 0 0 0 0 0 0 0 0 0\n",
    "                      0 0 0 0 0 0 0 0 0 0 0\n",
    "                      0 0 0 0 0 0 0 0 0 0 0\n",
    "                      0 0 0 0 0 0 0 0 0 0 0\n",
    "]\n",
    "\n",
    "speed_limit = [ 0 35 0 0 0 0 0 0 0 0 25\n",
    "                35 0 35 0 0 0 20 0 0 0 0\n",
    "                0 35 0 35 0 20 0 0 0 0 0\n",
    "                0 0 35 0 35 0 0 0 0 0 0\n",
    "                0 0 0 35 0 25 0 0 0 0 0\n",
    "                0 0 20 0 25 0 25 0 0 0 0\n",
    "                0 20 0 0 0 25 0 25 0 0 0\n",
    "                0 0 0 0 0 0 25 0 25 0 20\n",
    "                0 0 0 0 0 0 0 25 0 20 0\n",
    "                0 0 0 0 0 0 0 0 25 0 25\n",
    "                25 0 0 0 0 0 0 20 0 25 0\n",
    "]\n",
    "\n",
    "traffic_const = [ 0 10 0 0 0 0 0 0 0 0 7\n",
    "            10 0 10 0 0 0 4 0 0 0 0\n",
    "            0 10 0 10 0 4 0 0 0 0 0\n",
    "            0 0 10 0 10 0 0 0 0 0 0\n",
    "            0 0 0 10 0 7 0 0 0 0 0\n",
    "            0 0 4 0 7 0 7 0 0 0 0\n",
    "            0 4 0 0 0 7 0 7 0 0 0\n",
    "            0 0 0 0 0 0 7 0 7 0 4\n",
    "            0 0 0 0 0 0 0 7 0 7 0\n",
    "            0 0 0 0 0 0 0 0 7 0 7\n",
    "            7 0 0 0 0 0 0 4 0 7 0\n",
    "]\n",
    "\n",
    "daily_labor = 10\n",
    "labor_rate = 2;"
   ]
  },
  {
   "cell_type": "code",
   "execution_count": null,
   "metadata": {
    "collapsed": true
   },
   "outputs": [],
   "source": [
    "using JuMP, Mosek\n",
    "\n",
    "m = Model(solver = MosekSolver(LOG=0))\n",
    "\n",
    "@variable(m, )"
   ]
  }
 ],
 "metadata": {
  "kernelspec": {
   "display_name": "Julia 0.5.0",
   "language": "julia",
   "name": "julia-0.5"
  },
  "language_info": {
   "file_extension": ".jl",
   "mimetype": "application/julia",
   "name": "julia",
   "version": "0.5.0"
  }
 },
 "nbformat": 4,
 "nbformat_minor": 2
}
